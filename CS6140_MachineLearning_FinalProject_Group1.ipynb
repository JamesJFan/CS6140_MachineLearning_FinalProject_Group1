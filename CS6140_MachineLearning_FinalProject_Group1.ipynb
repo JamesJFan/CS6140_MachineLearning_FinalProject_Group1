{
  "nbformat": 4,
  "nbformat_minor": 0,
  "metadata": {
    "colab": {
      "provenance": []
    },
    "kernelspec": {
      "name": "python3",
      "display_name": "Python 3"
    },
    "language_info": {
      "name": "python"
    }
  },
  "cells": [
    {
      "cell_type": "markdown",
      "source": [
        "# CS6140 Final Project Proposal: Walkability Index\n",
        "### Team Members: James Fan, James Florez, Dominic Cauteruccio, Sara Spasojevic\n"
      ],
      "metadata": {
        "id": "bXA7dzJEil4H"
      }
    }
  ]
}